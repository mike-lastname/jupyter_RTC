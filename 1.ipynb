{
 "cells": [
  {
   "cell_type": "code",
   "execution_count": 3,
   "id": "dd6c4cab",
   "metadata": {},
   "outputs": [],
   "source": [
    "import rstr\n",
    "import random\n",
    "import csv\n",
    "import pandas as pd"
   ]
  },
  {
   "cell_type": "code",
   "execution_count": 18,
   "id": "7ed0a364",
   "metadata": {},
   "outputs": [],
   "source": [
    "df = pd.read_csv('E:/transactions.csv', header=0, names=['id', 'uid', 'transaction', 'segment'])"
   ]
  },
  {
   "cell_type": "code",
   "execution_count": 13,
   "id": "d2b53b8f",
   "metadata": {},
   "outputs": [
    {
     "data": {
      "text/plain": [
       "5000"
      ]
     },
     "execution_count": 13,
     "metadata": {},
     "output_type": "execute_result"
    }
   ],
   "source": [
    "df.uid[df['segment'] == 'R'].nunique()"
   ]
  },
  {
   "cell_type": "code",
   "execution_count": 14,
   "id": "d1e062a8",
   "metadata": {},
   "outputs": [
    {
     "data": {
      "text/plain": [
       "5000"
      ]
     },
     "execution_count": 14,
     "metadata": {},
     "output_type": "execute_result"
    }
   ],
   "source": [
    "df.uid[df['segment'] == 'AF'].nunique()"
   ]
  },
  {
   "cell_type": "code",
   "execution_count": 16,
   "id": "a3a56f1c",
   "metadata": {},
   "outputs": [
    {
     "data": {
      "text/plain": [
       "50003"
      ]
     },
     "execution_count": 16,
     "metadata": {},
     "output_type": "execute_result"
    }
   ],
   "source": [
    "int(df.transaction[df['segment'] == 'R'].sum() / df.uid[df['segment'] == 'R'].count())"
   ]
  },
  {
   "cell_type": "code",
   "execution_count": 21,
   "id": "1ef89f5e",
   "metadata": {},
   "outputs": [
    {
     "data": {
      "text/plain": [
       "nunique    5000\n",
       "Name: uid, dtype: int64"
      ]
     },
     "execution_count": 21,
     "metadata": {},
     "output_type": "execute_result"
    }
   ],
   "source": [
    "df.query(\"segment == 'R'\")['uid'].agg(['nunique'])"
   ]
  },
  {
   "cell_type": "code",
   "execution_count": 19,
   "id": "4a8081d8",
   "metadata": {},
   "outputs": [],
   "source": [
    "chunk = pd.read_csv(r'E:\\transactions.csv', chunksize=10000, header=0, names=['id', 'uid', 'transaction', 'segment'])"
   ]
  },
  {
   "cell_type": "code",
   "execution_count": 20,
   "id": "88f5dcf6",
   "metadata": {},
   "outputs": [
    {
     "name": "stdout",
     "output_type": "stream",
     "text": [
      "AAB552579    20297.0\n",
      "AAC310554    19984.0\n",
      "AAE660703    20119.0\n",
      "AAI176243    19840.0\n",
      "AAK599537    20140.0\n",
      "              ...   \n",
      "ZZN297901    20094.0\n",
      "ZZO631707    20101.0\n",
      "ZZP668277    20059.0\n",
      "ZZS154757    19867.0\n",
      "ZZX763135    19878.0\n",
      "Name: uid, Length: 5000, dtype: float64\n"
     ]
    }
   ],
   "source": [
    "result = None\n",
    "\n",
    "for i in chunk:\n",
    "    res = i.uid.value_counts()\n",
    "    if result is None:\n",
    "        result = res\n",
    "    else:\n",
    "        result = result.add(res)\n",
    "\n",
    "print(result)"
   ]
  },
  {
   "cell_type": "code",
   "execution_count": null,
   "id": "d78ccb0d",
   "metadata": {},
   "outputs": [],
   "source": [
    "%%time\n",
    "%%timeit\n",
    "\n",
    "uid_lst = list()\n",
    "\n",
    "for _ in range(5000):\n",
    "    uid_lst.append(rstr.xeger(r'[A-Z]{3}\\d{6}'))\n",
    "\n",
    "with open(r'E:\\transactions1.csv', 'w', newline='') as f:\n",
    "    writer = csv.writer(f)\n",
    "    for n in range(1, 400_000_000):\n",
    "        writer.writerow([n, random.choice(uid_lst), random.randint(1, 100_000), random.choice([\"R\", \"AF\"])])"
   ]
  },
  {
   "cell_type": "code",
   "execution_count": null,
   "id": "60cd31c3",
   "metadata": {},
   "outputs": [],
   "source": [
    "%%time\n",
    "%%timeit\n",
    "\n",
    "lst = list()\n",
    "lst_res = list()\n",
    "uid_lst = list()\n",
    "segment = ['R', 'AF']\n",
    "\n",
    "\n",
    "for _ in range(5000):\n",
    "    uid_lst.append(rstr.xeger(r'[A-Z]{3}\\d{6}'))\n",
    "\n",
    "with open('E:\\profiles1.csv', 'w', newline='') as file:\n",
    "    writer = csv.writer(file)\n",
    "    for n in range(1, 1_000_000):\n",
    "        lst.append(n)\n",
    "        lst.append(uid_lst[random.randint(0, 4999)])\n",
    "        lst.append(random.randint(1, 100_000))\n",
    "        lst.append(random.choice([\"R\", \"AF\"]))\n",
    "        writer.writerow(lst)\n",
    "        lst = []"
   ]
  },
  {
   "cell_type": "code",
   "execution_count": null,
   "id": "53e9716c",
   "metadata": {},
   "outputs": [],
   "source": [
    "# %%time\n",
    "# %%timeit\n",
    "\n",
    "lst_2 = list()\n",
    "lst_res_2 = list()\n",
    "uid_lst_2 = list()\n",
    "segment_2 = ['R', 'AF']\n",
    "\n",
    "\n",
    "for _ in range(5000):\n",
    "    uid_lst_2.append(rstr.xeger(r'[A-Z]{3}\\d{6}'))\n",
    "\n",
    "for n in range(1, 100_000_000):\n",
    "    lst_2.append(n)\n",
    "    lst_2.append(uid_lst_2[random.randint(0, 4999)])\n",
    "    lst_2.append(random.randint(1, 100_000))\n",
    "    lst_2.append(segment_2[random.randint(0, 1)])\n",
    "    lst_res_2.append(lst_2)\n",
    "    lst_2 = []\n",
    "\n",
    "len(lst_res_2)\n",
    "# with open('E:\\profiles2.csv', 'w', newline='') as file:\n",
    "#     writer = csv.writer(file)\n",
    "#     writer.writerows(lst_res_2)"
   ]
  },
  {
   "cell_type": "code",
   "execution_count": 3,
   "id": "48adb807",
   "metadata": {},
   "outputs": [
    {
     "name": "stdout",
     "output_type": "stream",
     "text": [
      "22\n",
      "28\n",
      "29\n",
      "26\n",
      "104\n",
      "104\n"
     ]
    }
   ],
   "source": [
    "import os\n",
    "\n",
    "total_bytes = -1\n",
    "\n",
    "with open(\"test.csv\") as file_in:\n",
    "    for line in file_in:\n",
    "        bytes_on_this_line = len(line) + 1\n",
    "        print(bytes_on_this_line)\n",
    "        total_bytes += bytes_on_this_line\n",
    "        \n",
    "print(total_bytes)\n",
    "\n",
    "print(os.path.getsize(\"test.csv\"))"
   ]
  },
  {
   "cell_type": "code",
   "execution_count": 1,
   "id": "dc376220-d4e8-4ed3-aee3-12eb45da544b",
   "metadata": {},
   "outputs": [],
   "source": [
    "test = 2"
   ]
  },
  {
   "cell_type": "code",
   "execution_count": 2,
   "id": "791ab8bd-0f54-4763-97bd-84ac1add618f",
   "metadata": {},
   "outputs": [
    {
     "data": {
      "text/plain": [
       "2"
      ]
     },
     "execution_count": 2,
     "metadata": {},
     "output_type": "execute_result"
    }
   ],
   "source": [
    "test"
   ]
  }
 ],
 "metadata": {
  "kernelspec": {
   "display_name": "Python 3 (ipykernel)",
   "language": "python",
   "name": "python3"
  },
  "language_info": {
   "codemirror_mode": {
    "name": "ipython",
    "version": 3
   },
   "file_extension": ".py",
   "mimetype": "text/x-python",
   "name": "python",
   "nbconvert_exporter": "python",
   "pygments_lexer": "ipython3",
   "version": "3.11.4"
  }
 },
 "nbformat": 4,
 "nbformat_minor": 5
}
